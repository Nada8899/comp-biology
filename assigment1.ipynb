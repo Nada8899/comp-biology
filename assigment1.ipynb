{
 "cells": [
  {
   "cell_type": "code",
   "execution_count": 1,
   "id": "37dcab8d",
   "metadata": {},
   "outputs": [],
   "source": [
    "import cobra"
   ]
  },
  {
   "cell_type": "code",
   "execution_count": 2,
   "id": "f619658b",
   "metadata": {},
   "outputs": [],
   "source": [
    "from cobra import Model,Reaction,Metabolite"
   ]
  },
  {
   "cell_type": "code",
   "execution_count": 18,
   "id": "700eca90",
   "metadata": {},
   "outputs": [],
   "source": [
    "model=Model('example1')\n",
    "\n",
    "\n",
    " ### react1 : A===> B\n",
    "\n",
    "react1=Reaction('react1')\n",
    "react1.name='react1'\n",
    "react1.lower_bound=0\n",
    "react1.upper_bound=1000\n",
    "\n",
    " ### react2 : B===> c \n",
    "\n",
    "react2=Reaction('react2')\n",
    "react2.name='react2'\n",
    "react2.lower_bound=0\n",
    "react2.upper_bound=1000"
   ]
  },
  {
   "cell_type": "code",
   "execution_count": 19,
   "id": "72a36f8c",
   "metadata": {},
   "outputs": [],
   "source": [
    "### react0 : ==> A \n",
    "\n",
    "react0=Reaction('react0')\n",
    "react0.name='react0'\n",
    "react0.lower_bound=1\n",
    "react0.upper_bound=1"
   ]
  },
  {
   "cell_type": "code",
   "execution_count": 20,
   "id": "be4de2c7",
   "metadata": {},
   "outputs": [],
   "source": [
    "###### out : C=====> \n",
    "\n",
    "O=Reaction('O')\n",
    "O.name='O'\n",
    "O.lower_bound=0\n",
    "O.upper_bound=1000"
   ]
  },
  {
   "cell_type": "code",
   "execution_count": 21,
   "id": "dff80014",
   "metadata": {},
   "outputs": [],
   "source": [
    "###### ATP_R : A=====> ATP \n",
    "\n",
    "ATP_R=Reaction('ATP_R')\n",
    "ATP_R.name='ATP_R'\n",
    "ATP_R.lower_bound=0\n",
    "ATP_R.upper_bound=1000"
   ]
  },
  {
   "cell_type": "code",
   "execution_count": 22,
   "id": "8a0cd81f",
   "metadata": {},
   "outputs": [],
   "source": [
    "###### react3 : ATP=====> \n",
    "\n",
    "react3=Reaction('react3')\n",
    "ATP_R.name='react3'\n",
    "ATP_R.lower_bound=.9\n",
    "ATP_R.upper_bound=.9"
   ]
  },
  {
   "cell_type": "code",
   "execution_count": 23,
   "id": "dd8f90d0",
   "metadata": {},
   "outputs": [],
   "source": [
    "A= Metabolite(\n",
    "    'A',compartment='c')\n",
    "B=Metabolite(\n",
    "    'B',compartment='c')\n",
    "C= Metabolite(\n",
    "    'C',compartment='c')\n",
    "ATP= Metabolite(\n",
    "    'ATP',compartment='c')"
   ]
  },
  {
   "cell_type": "code",
   "execution_count": 24,
   "id": "0c4f7cba",
   "metadata": {},
   "outputs": [],
   "source": [
    "###### Add metabolites in reaction 1\n",
    "\n",
    "react1.add_metabolites({A:-1,B:1})\n",
    "\n",
    "###### Add metabolites in reaction 2 \n",
    "\n",
    "react2.add_metabolites({B:-1,C:1})"
   ]
  },
  {
   "cell_type": "code",
   "execution_count": 25,
   "id": "48547be8",
   "metadata": {},
   "outputs": [],
   "source": [
    "###### Add metabolites in reaction 0 \n",
    "\n",
    "react0.add_metabolites({A:1})\n",
    "###### Add metabolites in reaction O\n",
    "\n",
    "O.add_metabolites({C:-1})"
   ]
  },
  {
   "cell_type": "code",
   "execution_count": 26,
   "id": "0fe64f29",
   "metadata": {},
   "outputs": [],
   "source": [
    "###### Add metabolites in reaction ATP_R \n",
    "\n",
    "ATP_R.add_metabolites({A:-1,ATP:1})"
   ]
  },
  {
   "cell_type": "code",
   "execution_count": 27,
   "id": "c1065034",
   "metadata": {},
   "outputs": [],
   "source": [
    "###### Add metabolites in reaction 3 \n",
    "\n",
    "react3.add_metabolites({ATP:-1})"
   ]
  },
  {
   "cell_type": "code",
   "execution_count": 28,
   "id": "5f3d7fa7",
   "metadata": {},
   "outputs": [],
   "source": [
    "###### Add reactions in model  \n",
    "model.add_reactions([react0,react1,ATP_R,react2,react3,O])"
   ]
  },
  {
   "cell_type": "code",
   "execution_count": 29,
   "id": "ad012c2e",
   "metadata": {},
   "outputs": [],
   "source": [
    "###### Put M as a objective function  \n",
    "\n",
    "model.objective = 'O'"
   ]
  },
  {
   "cell_type": "code",
   "execution_count": 30,
   "id": "598366a3",
   "metadata": {},
   "outputs": [
    {
     "data": {
      "text/html": [
       "<strong><em>Optimal</em> solution with objective value 0.100</strong><br><div>\n",
       "<style scoped>\n",
       "    .dataframe tbody tr th:only-of-type {\n",
       "        vertical-align: middle;\n",
       "    }\n",
       "\n",
       "    .dataframe tbody tr th {\n",
       "        vertical-align: top;\n",
       "    }\n",
       "\n",
       "    .dataframe thead th {\n",
       "        text-align: right;\n",
       "    }\n",
       "</style>\n",
       "<table border=\"1\" class=\"dataframe\">\n",
       "  <thead>\n",
       "    <tr style=\"text-align: right;\">\n",
       "      <th></th>\n",
       "      <th>fluxes</th>\n",
       "      <th>reduced_costs</th>\n",
       "    </tr>\n",
       "  </thead>\n",
       "  <tbody>\n",
       "    <tr>\n",
       "      <th>react0</th>\n",
       "      <td>1.0</td>\n",
       "      <td>2.0</td>\n",
       "    </tr>\n",
       "    <tr>\n",
       "      <th>react1</th>\n",
       "      <td>0.1</td>\n",
       "      <td>0.0</td>\n",
       "    </tr>\n",
       "    <tr>\n",
       "      <th>ATP_R</th>\n",
       "      <td>0.9</td>\n",
       "      <td>-2.0</td>\n",
       "    </tr>\n",
       "    <tr>\n",
       "      <th>react2</th>\n",
       "      <td>0.1</td>\n",
       "      <td>0.0</td>\n",
       "    </tr>\n",
       "    <tr>\n",
       "      <th>react3</th>\n",
       "      <td>0.9</td>\n",
       "      <td>0.0</td>\n",
       "    </tr>\n",
       "    <tr>\n",
       "      <th>O</th>\n",
       "      <td>0.1</td>\n",
       "      <td>0.0</td>\n",
       "    </tr>\n",
       "  </tbody>\n",
       "</table>\n",
       "</div>"
      ],
      "text/plain": [
       "<Solution 0.100 at 0x1d1b2dc7fa0>"
      ]
     },
     "execution_count": 30,
     "metadata": {},
     "output_type": "execute_result"
    }
   ],
   "source": [
    "model.optimize()"
   ]
  },
  {
   "cell_type": "code",
   "execution_count": 31,
   "id": "ffd44cbf",
   "metadata": {},
   "outputs": [
    {
     "data": {
      "text/html": [
       "<h3>Objective</h3><p>1.0 O = 0.09999999999999998</p><h4>Uptake</h4><table border=\"1\" class=\"dataframe\">\n",
       "  <thead>\n",
       "    <tr style=\"text-align: right;\">\n",
       "      <th>Metabolite</th>\n",
       "      <th>Reaction</th>\n",
       "      <th>Flux</th>\n",
       "      <th>C-Number</th>\n",
       "      <th>C-Flux</th>\n",
       "    </tr>\n",
       "  </thead>\n",
       "  <tbody>\n",
       "    <tr>\n",
       "      <td>A</td>\n",
       "      <td>react0</td>\n",
       "      <td>1</td>\n",
       "      <td>0</td>\n",
       "      <td>0.00%</td>\n",
       "    </tr>\n",
       "  </tbody>\n",
       "</table><h4>Secretion</h4><table border=\"1\" class=\"dataframe\">\n",
       "  <thead>\n",
       "    <tr style=\"text-align: right;\">\n",
       "      <th>Metabolite</th>\n",
       "      <th>Reaction</th>\n",
       "      <th>Flux</th>\n",
       "      <th>C-Number</th>\n",
       "      <th>C-Flux</th>\n",
       "    </tr>\n",
       "  </thead>\n",
       "  <tbody>\n",
       "    <tr>\n",
       "      <td>C</td>\n",
       "      <td>O</td>\n",
       "      <td>-0.1</td>\n",
       "      <td>0</td>\n",
       "      <td>0.00%</td>\n",
       "    </tr>\n",
       "    <tr>\n",
       "      <td>ATP</td>\n",
       "      <td>react3</td>\n",
       "      <td>-0.9</td>\n",
       "      <td>0</td>\n",
       "      <td>0.00%</td>\n",
       "    </tr>\n",
       "  </tbody>\n",
       "</table>"
      ],
      "text/plain": [
       "<cobra.summary.model_summary.ModelSummary at 0x1d1ab89fd30>"
      ]
     },
     "execution_count": 31,
     "metadata": {},
     "output_type": "execute_result"
    }
   ],
   "source": [
    "model.summary()"
   ]
  },
  {
   "cell_type": "code",
   "execution_count": null,
   "id": "753cc62c",
   "metadata": {},
   "outputs": [],
   "source": []
  }
 ],
 "metadata": {
  "kernelspec": {
   "display_name": "Python 3 (ipykernel)",
   "language": "python",
   "name": "python3"
  },
  "language_info": {
   "codemirror_mode": {
    "name": "ipython",
    "version": 3
   },
   "file_extension": ".py",
   "mimetype": "text/x-python",
   "name": "python",
   "nbconvert_exporter": "python",
   "pygments_lexer": "ipython3",
   "version": "3.9.7"
  }
 },
 "nbformat": 4,
 "nbformat_minor": 5
}
